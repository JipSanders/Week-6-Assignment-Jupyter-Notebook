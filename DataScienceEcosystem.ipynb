{
 "cells": [
  {
   "cell_type": "markdown",
   "id": "af52f891",
   "metadata": {},
   "source": [
    "# Data Science Tools and Environment"
   ]
  },
  {
   "cell_type": "markdown",
   "id": "367aa140",
   "metadata": {},
   "source": [
    "In this notebook, Data Science Tools and Ecosystem are summarized."
   ]
  },
  {
   "cell_type": "markdown",
   "id": "bf078881",
   "metadata": {},
   "source": [
    "Objectives covered in this notebook:\n",
    "\n",
    "* Commonly used libraries used by Data Scientists.\n",
    "* Simple arithmetic expressions used in Python.\n",
    "* Popular data science tools.\n",
    "* Popular data science languages."
   ]
  },
  {
   "cell_type": "markdown",
   "id": "c5c81678",
   "metadata": {},
   "source": [
    "Some of the popular languages that Data Scientists use are:\n",
    "\n",
    "    1. Python\n",
    "    2. R Language\n",
    "    3. SQL\n",
    "    4. C++\n",
    "    5. Java"
   ]
  },
  {
   "cell_type": "markdown",
   "id": "e0c99999",
   "metadata": {},
   "source": [
    "Some of the commonly used libraries used by Data Scientists include:\n",
    "    \n",
    "   1. Pandas\n",
    "   2. NumPy\n",
    "   3. SciPy\n",
    "   4. Matplotlib"
   ]
  },
  {
   "cell_type": "markdown",
   "id": "90a897b0",
   "metadata": {},
   "source": [
    "|Data Science Tools|\n",
    "|-----|\n",
    "|Hadoop|\n",
    "|Apache Airflow|\n",
    "|GitHub|\n",
    "|Java-ML|\n"
   ]
  },
  {
   "cell_type": "markdown",
   "id": "1351746c",
   "metadata": {},
   "source": [
    "### Below are a few examples of evaluation arithmetic expressions in Python:"
   ]
  },
  {
   "cell_type": "code",
   "execution_count": 4,
   "id": "18c87669",
   "metadata": {
    "scrolled": true
   },
   "outputs": [
    {
     "data": {
      "text/plain": [
       "17"
      ]
     },
     "execution_count": 4,
     "metadata": {},
     "output_type": "execute_result"
    }
   ],
   "source": [
    "#This is a simple arithmetic expression to multiply and then add integers:\n",
    "\n",
    "(3*4)+5"
   ]
  },
  {
   "cell_type": "code",
   "execution_count": 5,
   "id": "5fd9d64a",
   "metadata": {},
   "outputs": [
    {
     "data": {
      "text/plain": [
       "3.3333333333333335"
      ]
     },
     "execution_count": 5,
     "metadata": {},
     "output_type": "execute_result"
    }
   ],
   "source": [
    "#This will convert 200 minutes into hours using divide.\n",
    "200/60"
   ]
  },
  {
   "cell_type": "markdown",
   "id": "07bc8ec3",
   "metadata": {},
   "source": [
    "## Author\n",
    "\n",
    "Jip Sanders"
   ]
  },
  {
   "cell_type": "code",
   "execution_count": null,
   "id": "ad3cac6c",
   "metadata": {},
   "outputs": [],
   "source": []
  }
 ],
 "metadata": {
  "kernelspec": {
   "display_name": "Python 3 (ipykernel)",
   "language": "python",
   "name": "python3"
  },
  "language_info": {
   "codemirror_mode": {
    "name": "ipython",
    "version": 3
   },
   "file_extension": ".py",
   "mimetype": "text/x-python",
   "name": "python",
   "nbconvert_exporter": "python",
   "pygments_lexer": "ipython3",
   "version": "3.11.4"
  }
 },
 "nbformat": 4,
 "nbformat_minor": 5
}
